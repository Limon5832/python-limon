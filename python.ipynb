{
  "nbformat": 4,
  "nbformat_minor": 0,
  "metadata": {
    "colab": {
      "provenance": [],
      "toc_visible": true,
      "authorship_tag": "ABX9TyMQPVjrZKzwb3o5H9Whx2Eq",
      "include_colab_link": true
    },
    "kernelspec": {
      "name": "python3",
      "display_name": "Python 3"
    },
    "language_info": {
      "name": "python"
    }
  },
  "cells": [
    {
      "cell_type": "markdown",
      "metadata": {
        "id": "view-in-github",
        "colab_type": "text"
      },
      "source": [
        "<a href=\"https://colab.research.google.com/github/Limon5832/python-limon/blob/main/python.ipynb\" target=\"_parent\"><img src=\"https://colab.research.google.com/assets/colab-badge.svg\" alt=\"Open In Colab\"/></a>"
      ]
    },
    {
      "cell_type": "code",
      "execution_count": 3,
      "metadata": {
        "colab": {
          "base_uri": "https://localhost:8080/"
        },
        "id": "ojIo0aRx23tx",
        "outputId": "b0296ebb-9b72-4ec7-8354-c5e83a026dad"
      },
      "outputs": [
        {
          "output_type": "stream",
          "name": "stdout",
          "text": [
            "wellcome to python\n"
          ]
        }
      ],
      "source": [
        "print('wellcome to python')"
      ]
    },
    {
      "cell_type": "code",
      "source": [
        "23+24"
      ],
      "metadata": {
        "colab": {
          "base_uri": "https://localhost:8080/"
        },
        "id": "YCiIiPa03ZLu",
        "outputId": "6b2a8f83-56b7-4fec-da2d-b00083860e17"
      },
      "execution_count": 4,
      "outputs": [
        {
          "output_type": "execute_result",
          "data": {
            "text/plain": [
              "47"
            ]
          },
          "metadata": {},
          "execution_count": 4
        }
      ]
    },
    {
      "cell_type": "code",
      "source": [],
      "metadata": {
        "id": "xzjgacx33bEM"
      },
      "execution_count": null,
      "outputs": []
    },
    {
      "cell_type": "markdown",
      "source": [
        "# **Chapter 1**"
      ],
      "metadata": {
        "id": "gIDhN5r63cVP"
      }
    },
    {
      "cell_type": "code",
      "source": [],
      "metadata": {
        "id": "TnGON7Rv3hZj"
      },
      "execution_count": null,
      "outputs": []
    },
    {
      "cell_type": "markdown",
      "source": [
        "## **Chapter 1**"
      ],
      "metadata": {
        "id": "L6estclm30jl"
      }
    },
    {
      "cell_type": "code",
      "source": [],
      "metadata": {
        "id": "xK5XbBzG33wr"
      },
      "execution_count": null,
      "outputs": []
    }
  ]
}